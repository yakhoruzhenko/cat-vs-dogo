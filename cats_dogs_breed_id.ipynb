{
  "nbformat": 4,
  "nbformat_minor": 0,
  "metadata": {
    "colab": {
      "name": "cats_dogs_breed_id.ipynb",
      "provenance": [],
      "collapsed_sections": [],
      "authorship_tag": "ABX9TyM/uh2x5/WQ3n8gDApuR2Zf",
      "include_colab_link": true
    },
    "kernelspec": {
      "name": "python3",
      "display_name": "Python 3"
    }
  },
  "cells": [
    {
      "cell_type": "markdown",
      "metadata": {
        "id": "view-in-github",
        "colab_type": "text"
      },
      "source": [
        "<a href=\"https://colab.research.google.com/github/yarusx/cat_vs_dogo/blob/main/cats_dogs_breed_id.ipynb\" target=\"_parent\"><img src=\"https://colab.research.google.com/assets/colab-badge.svg\" alt=\"Open In Colab\"/></a>"
      ]
    },
    {
      "cell_type": "code",
      "metadata": {
        "id": "XbhGfKOyxIrS"
      },
      "source": [
        "import matplotlib.pyplot as plt\n",
        "import numpy as np\n",
        "import os\n",
        "import PIL\n",
        "import PIL.Image\n",
        "import tensorflow as tf\n",
        "from tensorflow.keras.preprocessing import image_dataset_from_directory\n",
        "import pathlib"
      ],
      "execution_count": null,
      "outputs": []
    },
    {
      "cell_type": "code",
      "metadata": {
        "colab": {
          "base_uri": "https://localhost:8080/"
        },
        "id": "_Neljo_tODlq",
        "outputId": "78ea973a-ea14-412c-f691-036405564460"
      },
      "source": [
        "from google.colab import drive\n",
        "drive.mount('/content/drive')"
      ],
      "execution_count": null,
      "outputs": [
        {
          "output_type": "stream",
          "text": [
            "Mounted at /content/drive\n"
          ],
          "name": "stdout"
        }
      ]
    },
    {
      "cell_type": "code",
      "metadata": {
        "id": "TU2D6sCCxLqZ"
      },
      "source": [
        "!unzip /content/drive/MyDrive/images2.zip"
      ],
      "execution_count": null,
      "outputs": []
    },
    {
      "cell_type": "code",
      "metadata": {
        "id": "x5odghPYVe_0"
      },
      "source": [
        "data_dir = pathlib.Path('/content/images')"
      ],
      "execution_count": null,
      "outputs": []
    },
    {
      "cell_type": "code",
      "metadata": {
        "colab": {
          "base_uri": "https://localhost:8080/"
        },
        "id": "LRCNNhkZT6yV",
        "outputId": "3c46de66-6b97-47eb-fcaf-8e37b002e155"
      },
      "source": [
        "image_count = len(list(data_dir.glob('*/*/*.jpg')))\n",
        "print(image_count)"
      ],
      "execution_count": null,
      "outputs": [
        {
          "output_type": "stream",
          "text": [
            "7390\n"
          ],
          "name": "stdout"
        }
      ]
    },
    {
      "cell_type": "code",
      "metadata": {
        "id": "O-ajjqPUVl0-"
      },
      "source": [
        "Cats = list(data_dir.glob('Cat/*/*'))\n",
        "PIL.Image.open(str(Cats[0]))"
      ],
      "execution_count": null,
      "outputs": []
    },
    {
      "cell_type": "code",
      "metadata": {
        "id": "BjICwuiV6J2h"
      },
      "source": [
        "BATCH_SIZE = 32\n",
        "IMG_SIZE = (160, 160)"
      ],
      "execution_count": null,
      "outputs": []
    },
    {
      "cell_type": "code",
      "metadata": {
        "colab": {
          "base_uri": "https://localhost:8080/"
        },
        "id": "rFQQmKHB6LUP",
        "outputId": "eddbecfe-db3f-4531-ae07-24145a031033"
      },
      "source": [
        "train_dataset = tf.keras.preprocessing.image_dataset_from_directory(\n",
        "  data_dir,\n",
        "  labels='inferred',\n",
        "  label_mode='int',\n",
        "  class_names = ['Cat','Dog'],\n",
        "  validation_split=0.2,\n",
        "  subset=\"training\",\n",
        "  seed=123,\n",
        "  image_size=IMG_SIZE,\n",
        "  batch_size=BATCH_SIZE)"
      ],
      "execution_count": null,
      "outputs": [
        {
          "output_type": "stream",
          "text": [
            "Found 7390 files belonging to 2 classes.\n",
            "Using 5912 files for training.\n"
          ],
          "name": "stdout"
        }
      ]
    },
    {
      "cell_type": "code",
      "metadata": {
        "colab": {
          "base_uri": "https://localhost:8080/"
        },
        "id": "-u8tRSah6nuA",
        "outputId": "3b8af0b7-5840-46e9-fd1b-661b7819c9fe"
      },
      "source": [
        "validation_dataset = tf.keras.preprocessing.image_dataset_from_directory(\n",
        "  data_dir,\n",
        "  labels='inferred',\n",
        "  label_mode='int',\n",
        "  class_names = ['Cat','Dog'],\n",
        "  validation_split=0.2,\n",
        "  subset=\"validation\",\n",
        "  seed=123,\n",
        "  image_size=IMG_SIZE,\n",
        "  batch_size=BATCH_SIZE)"
      ],
      "execution_count": null,
      "outputs": [
        {
          "output_type": "stream",
          "text": [
            "Found 7390 files belonging to 2 classes.\n",
            "Using 1478 files for validation.\n"
          ],
          "name": "stdout"
        }
      ]
    },
    {
      "cell_type": "code",
      "metadata": {
        "colab": {
          "base_uri": "https://localhost:8080/",
          "height": 345
        },
        "id": "pobJsbTq9I4G",
        "outputId": "6f9eb2b1-d219-425e-e7b5-b480f6227ef5"
      },
      "source": [
        "class_names = train_dataset.class_names\n",
        "\n",
        "plt.figure(figsize=(10, 10))\n",
        "for images, labels in train_dataset.take(1):\n",
        "  for i in range(9):\n",
        "    ax = plt.subplot(3, 3, i + 1)\n",
        "    plt.imshow(images[i].numpy().astype(\"uint8\"))\n",
        "    plt.title(class_names[labels[i]])\n",
        "    plt.axis(\"off\")"
      ],
      "execution_count": null,
      "outputs": [
        {
          "output_type": "stream",
          "text": [
            "tf.Tensor([0 1 0 1 1 1 1 1 1 1 0 0 0 0 0 1 0 1 1 0 1 1 0 0 0 0 1 1 1 0 0 1], shape=(32,), dtype=int32)\n",
            "<class 'tensorflow.python.framework.ops.EagerTensor'>\n",
            "tf.Tensor([0 1 0 1 1 1 1 1 1 1 0 0 0 0 0 1 0 1 1 0 1 1 0 0 0 0 1 1 1 0 0 1], shape=(32,), dtype=int32)\n",
            "<class 'tensorflow.python.framework.ops.EagerTensor'>\n",
            "tf.Tensor([0 1 0 1 1 1 1 1 1 1 0 0 0 0 0 1 0 1 1 0 1 1 0 0 0 0 1 1 1 0 0 1], shape=(32,), dtype=int32)\n",
            "<class 'tensorflow.python.framework.ops.EagerTensor'>\n",
            "tf.Tensor([0 1 0 1 1 1 1 1 1 1 0 0 0 0 0 1 0 1 1 0 1 1 0 0 0 0 1 1 1 0 0 1], shape=(32,), dtype=int32)\n",
            "<class 'tensorflow.python.framework.ops.EagerTensor'>\n",
            "tf.Tensor([0 1 0 1 1 1 1 1 1 1 0 0 0 0 0 1 0 1 1 0 1 1 0 0 0 0 1 1 1 0 0 1], shape=(32,), dtype=int32)\n",
            "<class 'tensorflow.python.framework.ops.EagerTensor'>\n",
            "tf.Tensor([0 1 0 1 1 1 1 1 1 1 0 0 0 0 0 1 0 1 1 0 1 1 0 0 0 0 1 1 1 0 0 1], shape=(32,), dtype=int32)\n",
            "<class 'tensorflow.python.framework.ops.EagerTensor'>\n",
            "tf.Tensor([0 1 0 1 1 1 1 1 1 1 0 0 0 0 0 1 0 1 1 0 1 1 0 0 0 0 1 1 1 0 0 1], shape=(32,), dtype=int32)\n",
            "<class 'tensorflow.python.framework.ops.EagerTensor'>\n",
            "tf.Tensor([0 1 0 1 1 1 1 1 1 1 0 0 0 0 0 1 0 1 1 0 1 1 0 0 0 0 1 1 1 0 0 1], shape=(32,), dtype=int32)\n",
            "<class 'tensorflow.python.framework.ops.EagerTensor'>\n",
            "tf.Tensor([0 1 0 1 1 1 1 1 1 1 0 0 0 0 0 1 0 1 1 0 1 1 0 0 0 0 1 1 1 0 0 1], shape=(32,), dtype=int32)\n",
            "<class 'tensorflow.python.framework.ops.EagerTensor'>\n"
          ],
          "name": "stdout"
        },
        {
          "output_type": "display_data",
          "data": {
            "text/plain": [
              "<Figure size 720x720 with 0 Axes>"
            ]
          },
          "metadata": {
            "tags": []
          }
        }
      ]
    },
    {
      "cell_type": "code",
      "metadata": {
        "colab": {
          "base_uri": "https://localhost:8080/"
        },
        "id": "NKYK6evG93NQ",
        "outputId": "62f44fae-0bff-4b3b-8359-0ab841d823b2"
      },
      "source": [
        "print(class_names)"
      ],
      "execution_count": null,
      "outputs": [
        {
          "output_type": "stream",
          "text": [
            "['Cat', 'Dog']\n"
          ],
          "name": "stdout"
        }
      ]
    },
    {
      "cell_type": "code",
      "metadata": {
        "id": "1bpK2NFW94XY"
      },
      "source": [
        ""
      ],
      "execution_count": null,
      "outputs": []
    }
  ]
}