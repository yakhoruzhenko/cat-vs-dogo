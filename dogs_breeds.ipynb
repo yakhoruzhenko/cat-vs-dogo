{
  "nbformat": 4,
  "nbformat_minor": 0,
  "metadata": {
    "colab": {
      "name": "dogs_breeds.ipynb",
      "provenance": [],
      "collapsed_sections": [],
      "authorship_tag": "ABX9TyNkz8+Tux8WoiW6tHVSLrtf",
      "include_colab_link": true
    },
    "kernelspec": {
      "name": "python3",
      "display_name": "Python 3"
    },
    "accelerator": "GPU"
  },
  "cells": [
    {
      "cell_type": "markdown",
      "metadata": {
        "id": "view-in-github",
        "colab_type": "text"
      },
      "source": [
        "<a href=\"https://colab.research.google.com/github/yarusx/cat_vs_dogo/blob/main/dogs_breeds.ipynb\" target=\"_parent\"><img src=\"https://colab.research.google.com/assets/colab-badge.svg\" alt=\"Open In Colab\"/></a>"
      ]
    },
    {
      "cell_type": "code",
      "metadata": {
        "id": "lBWQox7w8hOC"
      },
      "source": [
        "import matplotlib.pyplot as plt\n",
        "import numpy as np\n",
        "import os\n",
        "import PIL\n",
        "import PIL.Image\n",
        "import tensorflow as tf\n",
        "from tensorflow.keras.preprocessing import image_dataset_from_directory\n",
        "import pathlib"
      ],
      "execution_count": null,
      "outputs": []
    },
    {
      "cell_type": "code",
      "metadata": {
        "colab": {
          "base_uri": "https://localhost:8080/"
        },
        "id": "ZH3ZV2jy8jUg",
        "outputId": "6713057c-ef9f-458b-cd6a-79202844ab95"
      },
      "source": [
        "from google.colab import drive\n",
        "drive.mount('/content/drive')"
      ],
      "execution_count": null,
      "outputs": [
        {
          "output_type": "stream",
          "text": [
            "Mounted at /content/drive\n"
          ],
          "name": "stdout"
        }
      ]
    },
    {
      "cell_type": "code",
      "metadata": {
        "id": "YGJh0pVx8kxf"
      },
      "source": [
        "!unzip -q /content/drive/MyDrive/Dog.zip"
      ],
      "execution_count": null,
      "outputs": []
    },
    {
      "cell_type": "code",
      "metadata": {
        "id": "7QREw7Ms8mHQ"
      },
      "source": [
        "data_dir = pathlib.Path('/content/Dog')"
      ],
      "execution_count": null,
      "outputs": []
    },
    {
      "cell_type": "code",
      "metadata": {
        "id": "hB8yjGkf8oLv"
      },
      "source": [
        "BATCH_SIZE = 32\n",
        "IMG_SIZE = (160, 160)"
      ],
      "execution_count": null,
      "outputs": []
    },
    {
      "cell_type": "code",
      "metadata": {
        "colab": {
          "base_uri": "https://localhost:8080/"
        },
        "id": "5eb3Cqgl8ple",
        "outputId": "38869857-2792-4f0f-ea68-692ba3cf8bcf"
      },
      "source": [
        "train_dataset = tf.keras.preprocessing.image_dataset_from_directory(\n",
        "  data_dir,\n",
        "  labels='inferred',\n",
        "  label_mode='int',\n",
        "  class_names = ['pug', 'basset_hound', 'shiba_inu', 'leonberger', 'saint_bernard', 'miniature_pinscher', 'wheaten_terrier', 'scottish_terrier', 'pomeranian', 'german_shorthaired', 'english_setter', 'newfoundland', 'boxer', 'great_pyrenees', 'samoyed', 'japanese_chin', 'english_cocker_spaniel', 'havanese', 'american_pit_bull_terrier', 'keeshond', 'american_bulldog', 'chihuahua', 'beagle', 'yorkshire_terrier', 'staffordshire_bull_terrier'],\n",
        "  validation_split=0.2,\n",
        "  subset=\"training\",\n",
        "  seed=51,\n",
        "  image_size=IMG_SIZE,\n",
        "  batch_size=BATCH_SIZE)\n",
        "\n",
        "validation_dataset = tf.keras.preprocessing.image_dataset_from_directory(\n",
        "  data_dir,\n",
        "  labels='inferred',\n",
        "  label_mode='int',\n",
        "  class_names = ['pug', 'basset_hound', 'shiba_inu', 'leonberger', 'saint_bernard', 'miniature_pinscher', 'wheaten_terrier', 'scottish_terrier', 'pomeranian', 'german_shorthaired', 'english_setter', 'newfoundland', 'boxer', 'great_pyrenees', 'samoyed', 'japanese_chin', 'english_cocker_spaniel', 'havanese', 'american_pit_bull_terrier', 'keeshond', 'american_bulldog', 'chihuahua', 'beagle', 'yorkshire_terrier', 'staffordshire_bull_terrier'],\n",
        "  validation_split=0.2,\n",
        "  subset=\"validation\",\n",
        "  seed=51,\n",
        "  image_size=IMG_SIZE,\n",
        "  batch_size=BATCH_SIZE)"
      ],
      "execution_count": null,
      "outputs": [
        {
          "output_type": "stream",
          "text": [
            "Found 4990 files belonging to 25 classes.\n",
            "Using 3992 files for training.\n",
            "Found 4990 files belonging to 25 classes.\n",
            "Using 998 files for validation.\n"
          ],
          "name": "stdout"
        }
      ]
    },
    {
      "cell_type": "code",
      "metadata": {
        "id": "OkKM5x0w8vcJ"
      },
      "source": [
        "class_names = train_dataset.class_names\n",
        "\n",
        "# plt.figure(figsize=(10, 10))\n",
        "# for images, labels in train_dataset.take(1):\n",
        "#   for i in range(9):\n",
        "#     ax = plt.subplot(3, 3, i + 1)\n",
        "#     plt.imshow(images[i].numpy().astype(\"uint8\"))\n",
        "#     plt.title(class_names[labels[i]])\n",
        "#     plt.axis(\"off\")"
      ],
      "execution_count": null,
      "outputs": []
    },
    {
      "cell_type": "code",
      "metadata": {
        "id": "QCQvknh-8xCF"
      },
      "source": [
        "# val_batches = tf.data.experimental.cardinality(validation_dataset)\n",
        "# test_dataset = validation_dataset.take(val_batches // 5)\n",
        "# validation_dataset = validation_dataset.skip(val_batches // 5)"
      ],
      "execution_count": null,
      "outputs": []
    },
    {
      "cell_type": "code",
      "metadata": {
        "id": "HgG6pIbs8-_G"
      },
      "source": [
        "AUTOTUNE = tf.data.experimental.AUTOTUNE\n",
        "\n",
        "train_dataset = train_dataset.prefetch(buffer_size=AUTOTUNE)\n",
        "validation_dataset = validation_dataset.prefetch(buffer_size=AUTOTUNE)\n",
        "# test_dataset = test_dataset.prefetch(buffer_size=AUTOTUNE)"
      ],
      "execution_count": null,
      "outputs": []
    },
    {
      "cell_type": "code",
      "metadata": {
        "id": "CwjGFyg68_X-"
      },
      "source": [
        "data_augmentation = tf.keras.Sequential([\n",
        "  tf.keras.layers.experimental.preprocessing.RandomFlip('horizontal'),\n",
        "  tf.keras.layers.experimental.preprocessing.RandomRotation(0.2)\n",
        "])"
      ],
      "execution_count": null,
      "outputs": []
    },
    {
      "cell_type": "code",
      "metadata": {
        "id": "k-Z_0Wvr9Bnv"
      },
      "source": [
        "# for image, _ in train_dataset.take(1):\n",
        "#   plt.figure(figsize=(10, 10))\n",
        "#   first_image = image[0]\n",
        "#   for i in range(9):\n",
        "#     ax = plt.subplot(3, 3, i + 1)\n",
        "#     augmented_image = data_augmentation(tf.expand_dims(first_image, 0))\n",
        "#     plt.imshow(augmented_image[0] / 255)\n",
        "#     plt.axis('off')"
      ],
      "execution_count": null,
      "outputs": []
    },
    {
      "cell_type": "code",
      "metadata": {
        "id": "rcNcbZbM9Fwl"
      },
      "source": [
        "#preprocess_input = tf.keras.applications.mobilenet_v2.preprocess_input\n",
        "preprocess_input = tf.keras.layers.experimental.preprocessing.Rescaling(1./127.5, offset=-1)"
      ],
      "execution_count": null,
      "outputs": []
    },
    {
      "cell_type": "code",
      "metadata": {
        "colab": {
          "base_uri": "https://localhost:8080/"
        },
        "id": "OoDM8uWS9Io0",
        "outputId": "720cd744-923f-456f-da2c-3d72f52f38a6"
      },
      "source": [
        "# Create the base model from the pre-trained model MobileNet V2\n",
        "IMG_SHAPE = IMG_SIZE + (3,)\n",
        "base_model = tf.keras.applications.MobileNetV2(input_shape=IMG_SHAPE,\n",
        "                                               include_top=False,\n",
        "                                               weights='imagenet')"
      ],
      "execution_count": null,
      "outputs": [
        {
          "output_type": "stream",
          "text": [
            "Downloading data from https://storage.googleapis.com/tensorflow/keras-applications/mobilenet_v2/mobilenet_v2_weights_tf_dim_ordering_tf_kernels_1.0_160_no_top.h5\n",
            "9412608/9406464 [==============================] - 0s 0us/step\n"
          ],
          "name": "stdout"
        }
      ]
    },
    {
      "cell_type": "code",
      "metadata": {
        "colab": {
          "base_uri": "https://localhost:8080/"
        },
        "id": "4XnwchBL9L1s",
        "outputId": "6c4d121c-ec31-44bc-d994-6b4b74794005"
      },
      "source": [
        "image_batch, label_batch = next(iter(train_dataset))\n",
        "feature_batch = base_model(image_batch)\n",
        "print(feature_batch.shape)"
      ],
      "execution_count": null,
      "outputs": [
        {
          "output_type": "stream",
          "text": [
            "(32, 5, 5, 1280)\n"
          ],
          "name": "stdout"
        }
      ]
    },
    {
      "cell_type": "code",
      "metadata": {
        "id": "fn7ZIirY9O4t"
      },
      "source": [
        "base_model.trainable = False"
      ],
      "execution_count": null,
      "outputs": []
    },
    {
      "cell_type": "code",
      "metadata": {
        "colab": {
          "base_uri": "https://localhost:8080/"
        },
        "id": "fpUz2FUS9RTz",
        "outputId": "69e444f2-ec84-4c0e-e5ef-d658cceeaa32"
      },
      "source": [
        "global_avg_layer = tf.keras.layers.GlobalAveragePooling2D()\n",
        "feature_batch_avg = global_avg_layer(feature_batch)\n",
        "print(feature_batch_avg.shape)"
      ],
      "execution_count": null,
      "outputs": [
        {
          "output_type": "stream",
          "text": [
            "(32, 1280)\n"
          ],
          "name": "stdout"
        }
      ]
    },
    {
      "cell_type": "code",
      "metadata": {
        "colab": {
          "base_uri": "https://localhost:8080/"
        },
        "id": "n10YoJv_9TJr",
        "outputId": "640dabca-22c5-4c42-fff4-332469aee59d"
      },
      "source": [
        "prediction_layer = tf.keras.layers.Dense(37)\n",
        "prediction_batch = prediction_layer(feature_batch_avg)\n",
        "print(prediction_batch.shape)"
      ],
      "execution_count": null,
      "outputs": [
        {
          "output_type": "stream",
          "text": [
            "(32, 37)\n"
          ],
          "name": "stdout"
        }
      ]
    },
    {
      "cell_type": "code",
      "metadata": {
        "id": "su3f9uMG9VnD"
      },
      "source": [
        "inputs = tf.keras.Input(shape=(160, 160, 3))\n",
        "x = data_augmentation(inputs)\n",
        "x = preprocess_input(x)\n",
        "x = base_model(x, training=False)\n",
        "x = global_avg_layer(x)\n",
        "x = tf.keras.layers.Dropout(0.33)(x)\n",
        "outputs = prediction_layer(x)\n",
        "model = tf.keras.Model(inputs, outputs)"
      ],
      "execution_count": null,
      "outputs": []
    },
    {
      "cell_type": "code",
      "metadata": {
        "id": "Xz65TB7Q9Xo_"
      },
      "source": [
        "model.compile(optimizer=tf.keras.optimizers.Adam(learning_rate=0.0001),\n",
        "              loss=tf.keras.losses.SparseCategoricalCrossentropy(from_logits=True),\n",
        "              metrics=['accuracy'])"
      ],
      "execution_count": null,
      "outputs": []
    },
    {
      "cell_type": "code",
      "metadata": {
        "colab": {
          "base_uri": "https://localhost:8080/"
        },
        "id": "e68R13mY9ZJ8",
        "outputId": "ff91f54b-144d-4a05-f5ef-3ea507e17f52"
      },
      "source": [
        "loss0, accuracy0 = model.evaluate(validation_dataset)\n",
        "print(\"initial loss: {:.2f}\".format(loss0))\n",
        "print(\"initial accuracy: {:.2f}\".format(accuracy0))"
      ],
      "execution_count": null,
      "outputs": [
        {
          "output_type": "stream",
          "text": [
            "32/32 [==============================] - 2s 73ms/step - loss: 3.9040 - accuracy: 0.0200\n",
            "initial loss: 3.90\n",
            "initial accuracy: 0.02\n"
          ],
          "name": "stdout"
        }
      ]
    },
    {
      "cell_type": "code",
      "metadata": {
        "colab": {
          "base_uri": "https://localhost:8080/"
        },
        "id": "MhTBj6RX9bEk",
        "outputId": "a166eb90-3ab1-4429-ce54-2ddd42cb54c0"
      },
      "source": [
        "initial_epochs = 1\n",
        "history = model.fit(train_dataset,\n",
        "                    epochs=initial_epochs,\n",
        "                    validation_data=validation_dataset)\n",
        "val_acc = history.history['val_accuracy']"
      ],
      "execution_count": null,
      "outputs": [
        {
          "output_type": "stream",
          "text": [
            "125/125 [==============================] - 15s 121ms/step - loss: 2.0118 - accuracy: 0.4409 - val_loss: 1.3108 - val_accuracy: 0.7355\n"
          ],
          "name": "stdout"
        }
      ]
    },
    {
      "cell_type": "code",
      "metadata": {
        "colab": {
          "base_uri": "https://localhost:8080/"
        },
        "id": "DfMbDJDI9cqj",
        "outputId": "e1b486df-96eb-4ba3-e2cd-4bf66f5a4708"
      },
      "source": [
        "while np.mean(val_acc)*100 < 90.0:\n",
        "  initial_epochs = 5\n",
        "  history = model.fit(train_dataset,\n",
        "                    epochs=initial_epochs,\n",
        "                    validation_data=validation_dataset)\n",
        "  \n",
        "  val_acc = history.history['val_accuracy']\n",
        "  \n",
        "model.save(\"dogs_breeds.pb\")\n",
        "\n",
        "from google.colab import files\n",
        "files.download(\"dogs_breeds.pb\")"
      ],
      "execution_count": null,
      "outputs": [
        {
          "output_type": "stream",
          "text": [
            "Epoch 1/5\n",
            "125/125 [==============================] - 14s 113ms/step - loss: 0.3992 - accuracy: 0.8750 - val_loss: 0.2983 - val_accuracy: 0.8938\n",
            "Epoch 2/5\n",
            "125/125 [==============================] - 14s 113ms/step - loss: 0.4009 - accuracy: 0.8745 - val_loss: 0.2982 - val_accuracy: 0.8988\n",
            "Epoch 3/5\n",
            "125/125 [==============================] - 14s 113ms/step - loss: 0.4006 - accuracy: 0.8660 - val_loss: 0.2985 - val_accuracy: 0.8938\n",
            "Epoch 4/5\n",
            "125/125 [==============================] - 14s 112ms/step - loss: 0.3753 - accuracy: 0.8818 - val_loss: 0.2994 - val_accuracy: 0.8948\n",
            "Epoch 5/5\n",
            "125/125 [==============================] - 14s 112ms/step - loss: 0.3745 - accuracy: 0.8823 - val_loss: 0.2962 - val_accuracy: 0.8958\n",
            "Epoch 1/5\n",
            "125/125 [==============================] - 14s 112ms/step - loss: 0.3802 - accuracy: 0.8785 - val_loss: 0.2934 - val_accuracy: 0.8988\n",
            "Epoch 2/5\n",
            "125/125 [==============================] - 14s 113ms/step - loss: 0.3917 - accuracy: 0.8783 - val_loss: 0.2924 - val_accuracy: 0.9018\n",
            "Epoch 3/5\n",
            "125/125 [==============================] - 14s 114ms/step - loss: 0.3849 - accuracy: 0.8818 - val_loss: 0.2898 - val_accuracy: 0.8998\n",
            "Epoch 4/5\n",
            "125/125 [==============================] - 14s 114ms/step - loss: 0.3944 - accuracy: 0.8725 - val_loss: 0.2896 - val_accuracy: 0.8988\n",
            "Epoch 5/5\n",
            "125/125 [==============================] - 14s 111ms/step - loss: 0.3794 - accuracy: 0.8783 - val_loss: 0.2905 - val_accuracy: 0.8998\n",
            "Epoch 1/5\n",
            "125/125 [==============================] - 14s 112ms/step - loss: 0.3708 - accuracy: 0.8833 - val_loss: 0.2916 - val_accuracy: 0.9008\n",
            "Epoch 2/5\n",
            "125/125 [==============================] - 14s 113ms/step - loss: 0.3524 - accuracy: 0.8860 - val_loss: 0.2919 - val_accuracy: 0.8988\n",
            "Epoch 3/5\n",
            "125/125 [==============================] - 14s 113ms/step - loss: 0.3568 - accuracy: 0.8870 - val_loss: 0.2911 - val_accuracy: 0.8968\n",
            "Epoch 4/5\n",
            "125/125 [==============================] - 14s 115ms/step - loss: 0.3380 - accuracy: 0.8898 - val_loss: 0.2919 - val_accuracy: 0.8968\n",
            "Epoch 5/5\n",
            "125/125 [==============================] - 14s 114ms/step - loss: 0.3639 - accuracy: 0.8835 - val_loss: 0.2894 - val_accuracy: 0.8988\n",
            "Epoch 1/5\n",
            "125/125 [==============================] - 14s 112ms/step - loss: 0.3686 - accuracy: 0.8793 - val_loss: 0.2880 - val_accuracy: 0.8978\n",
            "Epoch 2/5\n",
            "125/125 [==============================] - 14s 112ms/step - loss: 0.3495 - accuracy: 0.8835 - val_loss: 0.2913 - val_accuracy: 0.8948\n",
            "Epoch 3/5\n",
            "125/125 [==============================] - 14s 113ms/step - loss: 0.3738 - accuracy: 0.8778 - val_loss: 0.2916 - val_accuracy: 0.8948\n",
            "Epoch 4/5\n",
            " 67/125 [===============>..............] - ETA: 5s - loss: 0.3638 - accuracy: 0.8806"
          ],
          "name": "stdout"
        }
      ]
    },
    {
      "cell_type": "code",
      "metadata": {
        "id": "pFzUvneq9f3a"
      },
      "source": [
        "model = tf.keras.models.load_model('/content/drive/MyDrive/dogs_breeds.pb')"
      ],
      "execution_count": null,
      "outputs": []
    },
    {
      "cell_type": "code",
      "metadata": {
        "id": "dW_1MhnC9mJ5"
      },
      "source": [
        "from keras.preprocessing.image import load_img, img_to_array\n",
        "\n",
        "# load and prepare the image\n",
        "def load_image(filename):\n",
        "\t# load the image\n",
        "\timg = load_img(filename, target_size=(160, 160))\n",
        "\t# convert to array\n",
        "\timg = img_to_array(img)\n",
        "\t# reshape into a single sample with 3 channels\n",
        "\timg = img.reshape(1, 160, 160, 3)\n",
        "\t# center pixel data\n",
        "\t#img = preprocess_input(img)\n",
        "\treturn img\n",
        "\n",
        "img = load_image('/content/drive/MyDrive/dayana_1.JPG')"
      ],
      "execution_count": null,
      "outputs": []
    },
    {
      "cell_type": "code",
      "metadata": {
        "id": "9TXQDuXz9n4z"
      },
      "source": [
        "labels = ['pug', 'basset_hound', 'shiba_inu', 'leonberger', 'saint_bernard', 'miniature_pinscher', 'wheaten_terrier', 'scottish_terrier', 'pomeranian', 'german_shorthaired', 'english_setter', 'newfoundland', 'boxer', 'great_pyrenees', 'samoyed', 'japanese_chin', 'english_cocker_spaniel', 'havanese', 'american_pit_bull_terrier', 'keeshond', 'american_bulldog', 'chihuahua', 'beagle', 'yorkshire_terrier', 'staffordshire_bull_terrier']"
      ],
      "execution_count": null,
      "outputs": []
    },
    {
      "cell_type": "code",
      "metadata": {
        "id": "jjKO_p3j9piZ"
      },
      "source": [
        "prediction = model.predict(img, batch_size=None,)\n",
        "prediction = tf.nn.softmax(prediction)\n",
        "prediction = np.argmax(prediction, axis=1)\n",
        "print(prediction)"
      ],
      "execution_count": null,
      "outputs": []
    },
    {
      "cell_type": "code",
      "metadata": {
        "id": "smcF4i049r7C"
      },
      "source": [
        "plt.figure()\n",
        "plt.imshow(img[0]/255)\n",
        "plt.title(labels[int(prediction)])"
      ],
      "execution_count": null,
      "outputs": []
    },
    {
      "cell_type": "code",
      "metadata": {
        "id": "yn-mzUxQ9wpp"
      },
      "source": [
        "# #Retrieve a batch of images from the test set\n",
        "# image_batch, label_batch = test_dataset.as_numpy_iterator().next()\n",
        "# predictions = model.predict_on_batch(image_batch)\n",
        "\n",
        "# # Apply a sigmoid since our model returns logits\n",
        "# predictions = tf.nn.softmax(predictions)\n",
        "# #print(predictions.shape)\n",
        "# predictions = np.argmax(predictions, axis=1)\n",
        "\n",
        "# print('Predictions:\\n', predictions)\n",
        "# print('Labels:\\n', label_batch)\n",
        "\n",
        "# plt.figure(figsize=(10, 10))\n",
        "# for i in range(9):\n",
        "#   ax = plt.subplot(3, 3, i + 1)\n",
        "#   plt.imshow(image_batch[i].astype(\"uint8\"))\n",
        "#   plt.title(class_names[predictions[i]])\n",
        "#   plt.axis(\"off\")"
      ],
      "execution_count": null,
      "outputs": []
    }
  ]
}