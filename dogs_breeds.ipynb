{
  "nbformat": 4,
  "nbformat_minor": 0,
  "metadata": {
    "colab": {
      "name": "Untitled7.ipynb",
      "provenance": [],
      "authorship_tag": "ABX9TyOgC7TTN2FZWrw1eeU+coN0",
      "include_colab_link": true
    },
    "kernelspec": {
      "name": "python3",
      "display_name": "Python 3"
    },
    "accelerator": "GPU"
  },
  "cells": [
    {
      "cell_type": "markdown",
      "metadata": {
        "id": "view-in-github",
        "colab_type": "text"
      },
      "source": [
        "<a href=\"https://colab.research.google.com/github/yarusx/cat_vs_dogo/blob/main/dogs_breeds.ipynb\" target=\"_parent\"><img src=\"https://colab.research.google.com/assets/colab-badge.svg\" alt=\"Open In Colab\"/></a>"
      ]
    },
    {
      "cell_type": "code",
      "metadata": {
        "id": "lBWQox7w8hOC"
      },
      "source": [
        "import matplotlib.pyplot as plt\n",
        "import numpy as np\n",
        "import os\n",
        "import PIL\n",
        "import PIL.Image\n",
        "import tensorflow as tf\n",
        "from tensorflow.keras.preprocessing import image_dataset_from_directory\n",
        "import pathlib"
      ],
      "execution_count": 6,
      "outputs": []
    },
    {
      "cell_type": "code",
      "metadata": {
        "colab": {
          "base_uri": "https://localhost:8080/"
        },
        "id": "ZH3ZV2jy8jUg",
        "outputId": "f5a646ce-7f52-402b-a62a-554cb11ba69f"
      },
      "source": [
        "from google.colab import drive\n",
        "drive.mount('/content/drive')"
      ],
      "execution_count": 7,
      "outputs": [
        {
          "output_type": "stream",
          "text": [
            "Drive already mounted at /content/drive; to attempt to forcibly remount, call drive.mount(\"/content/drive\", force_remount=True).\n"
          ],
          "name": "stdout"
        }
      ]
    },
    {
      "cell_type": "code",
      "metadata": {
        "id": "YGJh0pVx8kxf"
      },
      "source": [
        "!unzip -q /content/drive/MyDrive/Cat.zip"
      ],
      "execution_count": 3,
      "outputs": []
    },
    {
      "cell_type": "code",
      "metadata": {
        "id": "7QREw7Ms8mHQ"
      },
      "source": [
        "data_dir = pathlib.Path('/content/Cat')"
      ],
      "execution_count": 4,
      "outputs": []
    },
    {
      "cell_type": "code",
      "metadata": {
        "id": "hB8yjGkf8oLv"
      },
      "source": [
        "BATCH_SIZE = 32\n",
        "IMG_SIZE = (160, 160)"
      ],
      "execution_count": 8,
      "outputs": []
    },
    {
      "cell_type": "code",
      "metadata": {
        "colab": {
          "base_uri": "https://localhost:8080/"
        },
        "id": "5eb3Cqgl8ple",
        "outputId": "048f36fe-6dad-4fdd-d5e4-f9cd5a4c63ef"
      },
      "source": [
        "train_dataset = tf.keras.preprocessing.image_dataset_from_directory(\n",
        "  data_dir,\n",
        "  labels='inferred',\n",
        "  label_mode='int',\n",
        "  class_names = ['egyptian_mau', 'siamese', 'birman', 'abyssinian', 'sphynx', 'british_shorthair', 'bombay', 'russian_blue', 'persian', 'ragdoll', 'maine_coon', 'bengal'],\n",
        "  validation_split=0.2,\n",
        "  subset=\"training\",\n",
        "  seed=51,\n",
        "  image_size=IMG_SIZE,\n",
        "  batch_size=BATCH_SIZE)\n",
        "\n",
        "validation_dataset = tf.keras.preprocessing.image_dataset_from_directory(\n",
        "  data_dir,\n",
        "  labels='inferred',\n",
        "  label_mode='int',\n",
        "  class_names = ['egyptian_mau', 'siamese', 'birman', 'abyssinian', 'sphynx', 'british_shorthair', 'bombay', 'russian_blue', 'persian', 'ragdoll', 'maine_coon', 'bengal'],\n",
        "  validation_split=0.2,\n",
        "  subset=\"validation\",\n",
        "  seed=51,\n",
        "  image_size=IMG_SIZE,\n",
        "  batch_size=BATCH_SIZE)"
      ],
      "execution_count": 9,
      "outputs": [
        {
          "output_type": "stream",
          "text": [
            "Found 2400 files belonging to 12 classes.\n",
            "Using 1920 files for training.\n",
            "Found 2400 files belonging to 12 classes.\n",
            "Using 480 files for validation.\n"
          ],
          "name": "stdout"
        }
      ]
    },
    {
      "cell_type": "code",
      "metadata": {
        "id": "OkKM5x0w8vcJ"
      },
      "source": [
        "class_names = train_dataset.class_names\n",
        "\n",
        "# plt.figure(figsize=(10, 10))\n",
        "# for images, labels in train_dataset.take(1):\n",
        "#   for i in range(9):\n",
        "#     ax = plt.subplot(3, 3, i + 1)\n",
        "#     plt.imshow(images[i].numpy().astype(\"uint8\"))\n",
        "#     plt.title(class_names[labels[i]])\n",
        "#     plt.axis(\"off\")"
      ],
      "execution_count": 10,
      "outputs": []
    },
    {
      "cell_type": "code",
      "metadata": {
        "id": "QCQvknh-8xCF"
      },
      "source": [
        "# val_batches = tf.data.experimental.cardinality(validation_dataset)\n",
        "# test_dataset = validation_dataset.take(val_batches // 5)\n",
        "# validation_dataset = validation_dataset.skip(val_batches // 5)"
      ],
      "execution_count": null,
      "outputs": []
    },
    {
      "cell_type": "code",
      "metadata": {
        "id": "HgG6pIbs8-_G"
      },
      "source": [
        "AUTOTUNE = tf.data.experimental.AUTOTUNE\n",
        "\n",
        "train_dataset = train_dataset.prefetch(buffer_size=AUTOTUNE)\n",
        "validation_dataset = validation_dataset.prefetch(buffer_size=AUTOTUNE)\n",
        "# test_dataset = test_dataset.prefetch(buffer_size=AUTOTUNE)"
      ],
      "execution_count": 11,
      "outputs": []
    },
    {
      "cell_type": "code",
      "metadata": {
        "id": "CwjGFyg68_X-"
      },
      "source": [
        "data_augmentation = tf.keras.Sequential([\n",
        "  tf.keras.layers.experimental.preprocessing.RandomFlip('horizontal'),\n",
        "  tf.keras.layers.experimental.preprocessing.RandomRotation(0.2)\n",
        "])"
      ],
      "execution_count": 12,
      "outputs": []
    },
    {
      "cell_type": "code",
      "metadata": {
        "id": "k-Z_0Wvr9Bnv"
      },
      "source": [
        "# for image, _ in train_dataset.take(1):\n",
        "#   plt.figure(figsize=(10, 10))\n",
        "#   first_image = image[0]\n",
        "#   for i in range(9):\n",
        "#     ax = plt.subplot(3, 3, i + 1)\n",
        "#     augmented_image = data_augmentation(tf.expand_dims(first_image, 0))\n",
        "#     plt.imshow(augmented_image[0] / 255)\n",
        "#     plt.axis('off')"
      ],
      "execution_count": null,
      "outputs": []
    },
    {
      "cell_type": "code",
      "metadata": {
        "id": "rcNcbZbM9Fwl"
      },
      "source": [
        "#preprocess_input = tf.keras.applications.mobilenet_v2.preprocess_input\n",
        "preprocess_input = tf.keras.layers.experimental.preprocessing.Rescaling(1./127.5, offset=-1)"
      ],
      "execution_count": 13,
      "outputs": []
    },
    {
      "cell_type": "code",
      "metadata": {
        "colab": {
          "base_uri": "https://localhost:8080/"
        },
        "id": "OoDM8uWS9Io0",
        "outputId": "45d1fbbf-a51c-498f-d843-5f2108d6c1b3"
      },
      "source": [
        "# Create the base model from the pre-trained model MobileNet V2\n",
        "IMG_SHAPE = IMG_SIZE + (3,)\n",
        "base_model = tf.keras.applications.MobileNetV2(input_shape=IMG_SHAPE,\n",
        "                                               include_top=False,\n",
        "                                               weights='imagenet')"
      ],
      "execution_count": 14,
      "outputs": [
        {
          "output_type": "stream",
          "text": [
            "Downloading data from https://storage.googleapis.com/tensorflow/keras-applications/mobilenet_v2/mobilenet_v2_weights_tf_dim_ordering_tf_kernels_1.0_160_no_top.h5\n",
            "9412608/9406464 [==============================] - 0s 0us/step\n"
          ],
          "name": "stdout"
        }
      ]
    },
    {
      "cell_type": "code",
      "metadata": {
        "colab": {
          "base_uri": "https://localhost:8080/"
        },
        "id": "4XnwchBL9L1s",
        "outputId": "73e145ac-d0b4-472c-ca1d-5c37b66796d6"
      },
      "source": [
        "image_batch, label_batch = next(iter(train_dataset))\n",
        "feature_batch = base_model(image_batch)\n",
        "print(feature_batch.shape)"
      ],
      "execution_count": 15,
      "outputs": [
        {
          "output_type": "stream",
          "text": [
            "(32, 5, 5, 1280)\n"
          ],
          "name": "stdout"
        }
      ]
    },
    {
      "cell_type": "code",
      "metadata": {
        "id": "fn7ZIirY9O4t"
      },
      "source": [
        "base_model.trainable = False"
      ],
      "execution_count": 16,
      "outputs": []
    },
    {
      "cell_type": "code",
      "metadata": {
        "colab": {
          "base_uri": "https://localhost:8080/"
        },
        "id": "fpUz2FUS9RTz",
        "outputId": "2f185eaf-c33e-449c-fb4e-abd9eae39919"
      },
      "source": [
        "global_avg_layer = tf.keras.layers.GlobalAveragePooling2D()\n",
        "feature_batch_avg = global_avg_layer(feature_batch)\n",
        "print(feature_batch_avg.shape)"
      ],
      "execution_count": 17,
      "outputs": [
        {
          "output_type": "stream",
          "text": [
            "(32, 1280)\n"
          ],
          "name": "stdout"
        }
      ]
    },
    {
      "cell_type": "code",
      "metadata": {
        "colab": {
          "base_uri": "https://localhost:8080/"
        },
        "id": "n10YoJv_9TJr",
        "outputId": "14cb3a0d-65b7-470c-fadc-39b8f0b006f6"
      },
      "source": [
        "prediction_layer = tf.keras.layers.Dense(37)\n",
        "prediction_batch = prediction_layer(feature_batch_avg)\n",
        "print(prediction_batch.shape)"
      ],
      "execution_count": 18,
      "outputs": [
        {
          "output_type": "stream",
          "text": [
            "(32, 37)\n"
          ],
          "name": "stdout"
        }
      ]
    },
    {
      "cell_type": "code",
      "metadata": {
        "id": "su3f9uMG9VnD"
      },
      "source": [
        "inputs = tf.keras.Input(shape=(160, 160, 3))\n",
        "x = data_augmentation(inputs)\n",
        "x = preprocess_input(x)\n",
        "x = base_model(x, training=False)\n",
        "x = global_avg_layer(x)\n",
        "x = tf.keras.layers.Dropout(0.2)(x)\n",
        "outputs = prediction_layer(x)\n",
        "model = tf.keras.Model(inputs, outputs)"
      ],
      "execution_count": 19,
      "outputs": []
    },
    {
      "cell_type": "code",
      "metadata": {
        "id": "Xz65TB7Q9Xo_"
      },
      "source": [
        "model.compile(optimizer=tf.keras.optimizers.Adam(learning_rate=0.0001),\n",
        "              loss=tf.keras.losses.SparseCategoricalCrossentropy(from_logits=True),\n",
        "              metrics=['accuracy'])"
      ],
      "execution_count": 21,
      "outputs": []
    },
    {
      "cell_type": "code",
      "metadata": {
        "colab": {
          "base_uri": "https://localhost:8080/"
        },
        "id": "e68R13mY9ZJ8",
        "outputId": "3a78add7-f53f-4631-bbe4-c5ab65d297b2"
      },
      "source": [
        "loss0, accuracy0 = model.evaluate(validation_dataset)\n",
        "print(\"initial loss: {:.2f}\".format(loss0))\n",
        "print(\"initial accuracy: {:.2f}\".format(accuracy0))"
      ],
      "execution_count": 22,
      "outputs": [
        {
          "output_type": "stream",
          "text": [
            "15/15 [==============================] - 1s 47ms/step - loss: 4.1803 - accuracy: 0.0375\n",
            "initial loss: 4.18\n",
            "initial accuracy: 0.04\n"
          ],
          "name": "stdout"
        }
      ]
    },
    {
      "cell_type": "code",
      "metadata": {
        "colab": {
          "base_uri": "https://localhost:8080/"
        },
        "id": "MhTBj6RX9bEk",
        "outputId": "7de1e4da-95de-43e7-9a7a-4df387a9be72"
      },
      "source": [
        "initial_epochs = 1\n",
        "history = model.fit(train_dataset,\n",
        "                    epochs=initial_epochs,\n",
        "                    validation_data=validation_dataset)\n",
        "val_acc = history.history['val_accuracy']"
      ],
      "execution_count": 23,
      "outputs": [
        {
          "output_type": "stream",
          "text": [
            "60/60 [==============================] - 6s 102ms/step - loss: 3.4354 - accuracy: 0.1016 - val_loss: 2.6316 - val_accuracy: 0.2146\n"
          ],
          "name": "stdout"
        }
      ]
    },
    {
      "cell_type": "code",
      "metadata": {
        "colab": {
          "base_uri": "https://localhost:8080/"
        },
        "id": "DfMbDJDI9cqj",
        "outputId": "42acbecb-c89f-4d6b-a219-a26e9e4513b3"
      },
      "source": [
        "while np.mean(val_acc)*100 < 90.5:\n",
        "  initial_epochs = 5\n",
        "  history = model.fit(train_dataset,\n",
        "                    epochs=initial_epochs,\n",
        "                    validation_data=validation_dataset)\n",
        "  \n",
        "  val_acc = history.history['val_accuracy']\n",
        "  \n",
        "model.save(\"cats_breeds.pb\")\n",
        "\n",
        "from google.colab import files\n",
        "files.download(\"cats_breeds.pb\")"
      ],
      "execution_count": null,
      "outputs": [
        {
          "output_type": "stream",
          "text": [
            "Epoch 1/5\n",
            "60/60 [==============================] - 6s 104ms/step - loss: 2.4677 - accuracy: 0.2229 - val_loss: 2.1440 - val_accuracy: 0.3146\n",
            "Epoch 2/5\n",
            "60/60 [==============================] - 6s 102ms/step - loss: 2.0535 - accuracy: 0.3349 - val_loss: 1.8169 - val_accuracy: 0.4396\n",
            "Epoch 3/5\n",
            "60/60 [==============================] - 6s 102ms/step - loss: 1.7279 - accuracy: 0.4281 - val_loss: 1.5754 - val_accuracy: 0.5229\n",
            "Epoch 4/5\n",
            "60/60 [==============================] - 6s 101ms/step - loss: 1.5052 - accuracy: 0.5151 - val_loss: 1.3981 - val_accuracy: 0.5833\n",
            "Epoch 5/5\n",
            "60/60 [==============================] - 6s 100ms/step - loss: 1.3421 - accuracy: 0.5635 - val_loss: 1.2599 - val_accuracy: 0.6396\n",
            "Epoch 1/5\n",
            "60/60 [==============================] - 6s 103ms/step - loss: 1.2039 - accuracy: 0.6245 - val_loss: 1.1534 - val_accuracy: 0.6646\n",
            "Epoch 2/5\n",
            "60/60 [==============================] - 6s 102ms/step - loss: 1.1076 - accuracy: 0.6552 - val_loss: 1.0619 - val_accuracy: 0.6854\n",
            "Epoch 3/5\n",
            "60/60 [==============================] - 6s 101ms/step - loss: 1.0227 - accuracy: 0.6828 - val_loss: 0.9965 - val_accuracy: 0.7125\n",
            "Epoch 4/5\n",
            "60/60 [==============================] - 6s 102ms/step - loss: 0.9668 - accuracy: 0.6932 - val_loss: 0.9340 - val_accuracy: 0.7271\n",
            "Epoch 5/5\n",
            "60/60 [==============================] - 6s 103ms/step - loss: 0.9110 - accuracy: 0.7135 - val_loss: 0.8879 - val_accuracy: 0.7396\n",
            "Epoch 1/5\n",
            "60/60 [==============================] - 6s 101ms/step - loss: 0.8518 - accuracy: 0.7354 - val_loss: 0.8489 - val_accuracy: 0.7458\n",
            "Epoch 2/5\n",
            "60/60 [==============================] - 6s 103ms/step - loss: 0.8382 - accuracy: 0.7219 - val_loss: 0.8095 - val_accuracy: 0.7563\n",
            "Epoch 3/5\n",
            "60/60 [==============================] - 6s 105ms/step - loss: 0.7689 - accuracy: 0.7573 - val_loss: 0.7760 - val_accuracy: 0.7708\n",
            "Epoch 4/5\n",
            "60/60 [==============================] - 6s 102ms/step - loss: 0.7794 - accuracy: 0.7469 - val_loss: 0.7508 - val_accuracy: 0.7896\n",
            "Epoch 5/5\n",
            "60/60 [==============================] - 6s 101ms/step - loss: 0.7278 - accuracy: 0.7677 - val_loss: 0.7323 - val_accuracy: 0.7937\n",
            "Epoch 1/5\n",
            "60/60 [==============================] - 6s 100ms/step - loss: 0.6977 - accuracy: 0.7635 - val_loss: 0.7133 - val_accuracy: 0.7917\n",
            "Epoch 2/5\n",
            "60/60 [==============================] - 6s 101ms/step - loss: 0.6814 - accuracy: 0.7823 - val_loss: 0.6961 - val_accuracy: 0.7937\n",
            "Epoch 3/5\n",
            "60/60 [==============================] - 6s 102ms/step - loss: 0.6729 - accuracy: 0.7786 - val_loss: 0.6777 - val_accuracy: 0.7917\n",
            "Epoch 4/5\n",
            "60/60 [==============================] - 6s 102ms/step - loss: 0.6377 - accuracy: 0.7906 - val_loss: 0.6607 - val_accuracy: 0.7979\n",
            "Epoch 5/5\n",
            "60/60 [==============================] - 6s 102ms/step - loss: 0.6235 - accuracy: 0.8021 - val_loss: 0.6503 - val_accuracy: 0.7958\n",
            "Epoch 1/5\n",
            "60/60 [==============================] - 6s 103ms/step - loss: 0.5978 - accuracy: 0.8224 - val_loss: 0.6330 - val_accuracy: 0.8021\n",
            "Epoch 2/5\n",
            " 4/60 [=>............................] - ETA: 3s - loss: 0.5859 - accuracy: 0.8125"
          ],
          "name": "stdout"
        }
      ]
    },
    {
      "cell_type": "code",
      "metadata": {
        "id": "pFzUvneq9f3a"
      },
      "source": [
        "model = tf.keras.models.load_model('/content/drive/MyDrive/cats_breeds.pb')"
      ],
      "execution_count": null,
      "outputs": []
    },
    {
      "cell_type": "code",
      "metadata": {
        "id": "dW_1MhnC9mJ5"
      },
      "source": [
        "from keras.preprocessing.image import load_img, img_to_array\n",
        "\n",
        "# load and prepare the image\n",
        "def load_image(filename):\n",
        "\t# load the image\n",
        "\timg = load_img(filename, target_size=(160, 160))\n",
        "\t# convert to array\n",
        "\timg = img_to_array(img)\n",
        "\t# reshape into a single sample with 3 channels\n",
        "\timg = img.reshape(1, 160, 160, 3)\n",
        "\t# center pixel data\n",
        "\t#img = preprocess_input(img)\n",
        "\treturn img\n",
        "\n",
        "img = load_image('/content/drive/MyDrive/cat_1.jpeg')"
      ],
      "execution_count": null,
      "outputs": []
    },
    {
      "cell_type": "code",
      "metadata": {
        "id": "9TXQDuXz9n4z"
      },
      "source": [
        "labels = ['egyptian_mau', 'siamese', 'birman', 'abyssinian', 'sphynx', 'british_shorthair', 'bombay', 'russian_blue', 'persian', 'ragdoll', 'maine_coon', 'bengal']"
      ],
      "execution_count": null,
      "outputs": []
    },
    {
      "cell_type": "code",
      "metadata": {
        "id": "jjKO_p3j9piZ"
      },
      "source": [
        "prediction = model.predict(img, batch_size=None,)\n",
        "prediction = tf.nn.softmax(prediction)\n",
        "prediction = np.argmax(prediction, axis=1)\n",
        "print(prediction)"
      ],
      "execution_count": null,
      "outputs": []
    },
    {
      "cell_type": "code",
      "metadata": {
        "id": "smcF4i049r7C"
      },
      "source": [
        "plt.figure()\n",
        "plt.imshow(img[0]/255)\n",
        "plt.title(labels[int(prediction)])"
      ],
      "execution_count": null,
      "outputs": []
    },
    {
      "cell_type": "code",
      "metadata": {
        "id": "yn-mzUxQ9wpp"
      },
      "source": [
        "# #Retrieve a batch of images from the test set\n",
        "# image_batch, label_batch = test_dataset.as_numpy_iterator().next()\n",
        "# predictions = model.predict_on_batch(image_batch)\n",
        "\n",
        "# # Apply a sigmoid since our model returns logits\n",
        "# predictions = tf.nn.softmax(predictions)\n",
        "# #print(predictions.shape)\n",
        "# predictions = np.argmax(predictions, axis=1)\n",
        "\n",
        "# print('Predictions:\\n', predictions)\n",
        "# print('Labels:\\n', label_batch)\n",
        "\n",
        "# plt.figure(figsize=(10, 10))\n",
        "# for i in range(9):\n",
        "#   ax = plt.subplot(3, 3, i + 1)\n",
        "#   plt.imshow(image_batch[i].astype(\"uint8\"))\n",
        "#   plt.title(class_names[predictions[i]])\n",
        "#   plt.axis(\"off\")"
      ],
      "execution_count": null,
      "outputs": []
    }
  ]
}