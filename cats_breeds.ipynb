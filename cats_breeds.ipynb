{
  "nbformat": 4,
  "nbformat_minor": 0,
  "metadata": {
    "colab": {
      "name": "cats_breeds.ipynb",
      "provenance": [],
      "collapsed_sections": [],
      "authorship_tag": "ABX9TyNbCnZ+RBPPXjyGU07HEu2R",
      "include_colab_link": true
    },
    "kernelspec": {
      "name": "python3",
      "display_name": "Python 3"
    },
    "accelerator": "GPU"
  },
  "cells": [
    {
      "cell_type": "markdown",
      "metadata": {
        "id": "view-in-github",
        "colab_type": "text"
      },
      "source": [
        "<a href=\"https://colab.research.google.com/github/yarusx/cat_vs_dogo/blob/main/cats_breeds.ipynb\" target=\"_parent\"><img src=\"https://colab.research.google.com/assets/colab-badge.svg\" alt=\"Open In Colab\"/></a>"
      ]
    },
    {
      "cell_type": "code",
      "metadata": {
        "id": "lBWQox7w8hOC"
      },
      "source": [
        "import matplotlib.pyplot as plt\n",
        "import numpy as np\n",
        "import os\n",
        "import PIL\n",
        "import PIL.Image\n",
        "import tensorflow as tf\n",
        "from tensorflow.keras.preprocessing import image_dataset_from_directory\n",
        "import pathlib"
      ],
      "execution_count": null,
      "outputs": []
    },
    {
      "cell_type": "code",
      "metadata": {
        "colab": {
          "base_uri": "https://localhost:8080/"
        },
        "id": "ZH3ZV2jy8jUg",
        "outputId": "4246c850-7cb3-463a-926d-96d6c6c0ffd8"
      },
      "source": [
        "from google.colab import drive\n",
        "drive.mount('/content/drive')"
      ],
      "execution_count": null,
      "outputs": [
        {
          "output_type": "stream",
          "text": [
            "Drive already mounted at /content/drive; to attempt to forcibly remount, call drive.mount(\"/content/drive\", force_remount=True).\n"
          ],
          "name": "stdout"
        }
      ]
    },
    {
      "cell_type": "code",
      "metadata": {
        "colab": {
          "base_uri": "https://localhost:8080/"
        },
        "id": "YGJh0pVx8kxf",
        "outputId": "0920f854-e0fd-4d3a-ba11-09ab7995c13f"
      },
      "source": [
        "!unzip -q /content/drive/MyDrive/Cat.zip"
      ],
      "execution_count": null,
      "outputs": [
        {
          "output_type": "stream",
          "text": [
            "replace Cat/cats_names.txt? [y]es, [n]o, [A]ll, [N]one, [r]ename: n\n",
            "replace __MACOSX/Cat/._cats_names.txt? [y]es, [n]o, [A]ll, [N]one, [r]ename: N\n"
          ],
          "name": "stdout"
        }
      ]
    },
    {
      "cell_type": "code",
      "metadata": {
        "id": "7QREw7Ms8mHQ"
      },
      "source": [
        "data_dir = pathlib.Path('/content/Cat')"
      ],
      "execution_count": null,
      "outputs": []
    },
    {
      "cell_type": "code",
      "metadata": {
        "id": "hB8yjGkf8oLv"
      },
      "source": [
        "BATCH_SIZE = 32\n",
        "IMG_SIZE = (160, 160)"
      ],
      "execution_count": null,
      "outputs": []
    },
    {
      "cell_type": "code",
      "metadata": {
        "colab": {
          "base_uri": "https://localhost:8080/"
        },
        "id": "5eb3Cqgl8ple",
        "outputId": "b2433002-b464-4026-d3b6-06906219d6b9"
      },
      "source": [
        "train_dataset = tf.keras.preprocessing.image_dataset_from_directory(\n",
        "  data_dir,\n",
        "  labels='inferred',\n",
        "  label_mode='int',\n",
        "  class_names = ['egyptian_mau', 'siamese', 'birman', 'abyssinian', 'sphynx', 'british_shorthair', 'bombay', 'russian_blue', 'persian', 'ragdoll', 'maine_coon', 'bengal'],\n",
        "  validation_split=0.2,\n",
        "  subset=\"training\",\n",
        "  seed=51,\n",
        "  image_size=IMG_SIZE,\n",
        "  batch_size=BATCH_SIZE)\n",
        "\n",
        "validation_dataset = tf.keras.preprocessing.image_dataset_from_directory(\n",
        "  data_dir,\n",
        "  labels='inferred',\n",
        "  label_mode='int',\n",
        "  class_names = ['egyptian_mau', 'siamese', 'birman', 'abyssinian', 'sphynx', 'british_shorthair', 'bombay', 'russian_blue', 'persian', 'ragdoll', 'maine_coon', 'bengal'],\n",
        "  validation_split=0.2,\n",
        "  subset=\"validation\",\n",
        "  seed=51,\n",
        "  image_size=IMG_SIZE,\n",
        "  batch_size=BATCH_SIZE)"
      ],
      "execution_count": null,
      "outputs": [
        {
          "output_type": "stream",
          "text": [
            "Found 2400 files belonging to 12 classes.\n",
            "Using 1920 files for training.\n",
            "Found 2400 files belonging to 12 classes.\n",
            "Using 480 files for validation.\n"
          ],
          "name": "stdout"
        }
      ]
    },
    {
      "cell_type": "code",
      "metadata": {
        "id": "OkKM5x0w8vcJ"
      },
      "source": [
        "class_names = train_dataset.class_names\n",
        "\n",
        "# plt.figure(figsize=(10, 10))\n",
        "# for images, labels in train_dataset.take(1):\n",
        "#   for i in range(9):\n",
        "#     ax = plt.subplot(3, 3, i + 1)\n",
        "#     plt.imshow(images[i].numpy().astype(\"uint8\"))\n",
        "#     plt.title(class_names[labels[i]])\n",
        "#     plt.axis(\"off\")"
      ],
      "execution_count": null,
      "outputs": []
    },
    {
      "cell_type": "code",
      "metadata": {
        "id": "QCQvknh-8xCF"
      },
      "source": [
        "# val_batches = tf.data.experimental.cardinality(validation_dataset)\n",
        "# test_dataset = validation_dataset.take(val_batches // 5)\n",
        "# validation_dataset = validation_dataset.skip(val_batches // 5)"
      ],
      "execution_count": null,
      "outputs": []
    },
    {
      "cell_type": "code",
      "metadata": {
        "id": "HgG6pIbs8-_G"
      },
      "source": [
        "AUTOTUNE = tf.data.experimental.AUTOTUNE\n",
        "\n",
        "train_dataset = train_dataset.prefetch(buffer_size=AUTOTUNE)\n",
        "validation_dataset = validation_dataset.prefetch(buffer_size=AUTOTUNE)\n",
        "# test_dataset = test_dataset.prefetch(buffer_size=AUTOTUNE)"
      ],
      "execution_count": null,
      "outputs": []
    },
    {
      "cell_type": "code",
      "metadata": {
        "id": "CwjGFyg68_X-"
      },
      "source": [
        "data_augmentation = tf.keras.Sequential([\n",
        "  tf.keras.layers.experimental.preprocessing.RandomFlip('horizontal'),\n",
        "  tf.keras.layers.experimental.preprocessing.RandomRotation(0.2)\n",
        "])"
      ],
      "execution_count": null,
      "outputs": []
    },
    {
      "cell_type": "code",
      "metadata": {
        "id": "k-Z_0Wvr9Bnv"
      },
      "source": [
        "# for image, _ in train_dataset.take(1):\n",
        "#   plt.figure(figsize=(10, 10))\n",
        "#   first_image = image[0]\n",
        "#   for i in range(9):\n",
        "#     ax = plt.subplot(3, 3, i + 1)\n",
        "#     augmented_image = data_augmentation(tf.expand_dims(first_image, 0))\n",
        "#     plt.imshow(augmented_image[0] / 255)\n",
        "#     plt.axis('off')"
      ],
      "execution_count": null,
      "outputs": []
    },
    {
      "cell_type": "code",
      "metadata": {
        "id": "rcNcbZbM9Fwl"
      },
      "source": [
        "#preprocess_input = tf.keras.applications.mobilenet_v2.preprocess_input\n",
        "preprocess_input = tf.keras.layers.experimental.preprocessing.Rescaling(1./127.5, offset=-1)"
      ],
      "execution_count": null,
      "outputs": []
    },
    {
      "cell_type": "code",
      "metadata": {
        "id": "OoDM8uWS9Io0"
      },
      "source": [
        "# Create the base model from the pre-trained model MobileNet V2\n",
        "IMG_SHAPE = IMG_SIZE + (3,)\n",
        "base_model = tf.keras.applications.MobileNetV2(input_shape=IMG_SHAPE,\n",
        "                                               include_top=False,\n",
        "                                               weights='imagenet')"
      ],
      "execution_count": null,
      "outputs": []
    },
    {
      "cell_type": "code",
      "metadata": {
        "colab": {
          "base_uri": "https://localhost:8080/"
        },
        "id": "4XnwchBL9L1s",
        "outputId": "7ca127c3-445b-4079-b166-24e3a353d68b"
      },
      "source": [
        "image_batch, label_batch = next(iter(train_dataset))\n",
        "feature_batch = base_model(image_batch)\n",
        "print(feature_batch.shape)"
      ],
      "execution_count": null,
      "outputs": [
        {
          "output_type": "stream",
          "text": [
            "(32, 5, 5, 1280)\n"
          ],
          "name": "stdout"
        }
      ]
    },
    {
      "cell_type": "code",
      "metadata": {
        "id": "fn7ZIirY9O4t"
      },
      "source": [
        "base_model.trainable = False"
      ],
      "execution_count": null,
      "outputs": []
    },
    {
      "cell_type": "code",
      "metadata": {
        "colab": {
          "base_uri": "https://localhost:8080/"
        },
        "id": "fpUz2FUS9RTz",
        "outputId": "af829177-4e25-46bc-934e-61734d1673bf"
      },
      "source": [
        "global_avg_layer = tf.keras.layers.GlobalAveragePooling2D()\n",
        "feature_batch_avg = global_avg_layer(feature_batch)\n",
        "print(feature_batch_avg.shape)"
      ],
      "execution_count": null,
      "outputs": [
        {
          "output_type": "stream",
          "text": [
            "(32, 1280)\n"
          ],
          "name": "stdout"
        }
      ]
    },
    {
      "cell_type": "code",
      "metadata": {
        "colab": {
          "base_uri": "https://localhost:8080/"
        },
        "id": "n10YoJv_9TJr",
        "outputId": "33fdbb29-21fc-40cd-9b66-525a57401022"
      },
      "source": [
        "prediction_layer = tf.keras.layers.Dense(37)\n",
        "prediction_batch = prediction_layer(feature_batch_avg)\n",
        "print(prediction_batch.shape)"
      ],
      "execution_count": null,
      "outputs": [
        {
          "output_type": "stream",
          "text": [
            "(32, 37)\n"
          ],
          "name": "stdout"
        }
      ]
    },
    {
      "cell_type": "code",
      "metadata": {
        "id": "su3f9uMG9VnD"
      },
      "source": [
        "inputs = tf.keras.Input(shape=(160, 160, 3))\n",
        "x = data_augmentation(inputs)\n",
        "x = preprocess_input(x)\n",
        "x = base_model(x, training=False)\n",
        "x = global_avg_layer(x)\n",
        "x = tf.keras.layers.Dropout(0.35)(x)\n",
        "outputs = prediction_layer(x)\n",
        "model = tf.keras.Model(inputs, outputs)"
      ],
      "execution_count": null,
      "outputs": []
    },
    {
      "cell_type": "code",
      "metadata": {
        "id": "Xz65TB7Q9Xo_"
      },
      "source": [
        "model.compile(optimizer=tf.keras.optimizers.Adam(learning_rate=0.0001),\n",
        "              loss=tf.keras.losses.SparseCategoricalCrossentropy(from_logits=True),\n",
        "              metrics=['accuracy'])"
      ],
      "execution_count": null,
      "outputs": []
    },
    {
      "cell_type": "code",
      "metadata": {
        "colab": {
          "base_uri": "https://localhost:8080/"
        },
        "id": "e68R13mY9ZJ8",
        "outputId": "24e269a0-805c-4509-8b43-1dc63c4a8b8e"
      },
      "source": [
        "loss0, accuracy0 = model.evaluate(validation_dataset)\n",
        "print(\"initial loss: {:.2f}\".format(loss0))\n",
        "print(\"initial accuracy: {:.2f}\".format(accuracy0))"
      ],
      "execution_count": null,
      "outputs": [
        {
          "output_type": "stream",
          "text": [
            "15/15 [==============================] - 1s 45ms/step - loss: 3.9752 - accuracy: 0.0562\n",
            "initial loss: 3.98\n",
            "initial accuracy: 0.06\n"
          ],
          "name": "stdout"
        }
      ]
    },
    {
      "cell_type": "code",
      "metadata": {
        "colab": {
          "base_uri": "https://localhost:8080/"
        },
        "id": "MhTBj6RX9bEk",
        "outputId": "e34193e7-6d84-464d-f135-e56fe4bcd69d"
      },
      "source": [
        "initial_epochs = 1\n",
        "history = model.fit(train_dataset,\n",
        "                    epochs=initial_epochs,\n",
        "                    validation_data=validation_dataset)\n",
        "val_acc = history.history['val_accuracy']"
      ],
      "execution_count": null,
      "outputs": [
        {
          "output_type": "stream",
          "text": [
            "60/60 [==============================] - 6s 103ms/step - loss: 3.6408 - accuracy: 0.0818 - val_loss: 2.6651 - val_accuracy: 0.1500\n"
          ],
          "name": "stdout"
        }
      ]
    },
    {
      "cell_type": "code",
      "metadata": {
        "colab": {
          "base_uri": "https://localhost:8080/"
        },
        "id": "DfMbDJDI9cqj",
        "outputId": "5fab3bd1-a732-45b0-d7db-b3d92a91e799"
      },
      "source": [
        "while np.mean(val_acc)*100 < 86.0:\n",
        "  initial_epochs = 5\n",
        "  history = model.fit(train_dataset,\n",
        "                    epochs=initial_epochs,\n",
        "                    validation_data=validation_dataset)\n",
        "  \n",
        "  val_acc = history.history['val_accuracy']\n",
        "  \n",
        "model.save(\"cats_breeds.pb\")\n",
        "\n",
        "from google.colab import files\n",
        "files.download(\"cats_breeds.pb\")"
      ],
      "execution_count": null,
      "outputs": [
        {
          "output_type": "stream",
          "text": [
            "Epoch 1/5\n",
            "60/60 [==============================] - 6s 102ms/step - loss: 0.5099 - accuracy: 0.8214 - val_loss: 0.5057 - val_accuracy: 0.8479\n",
            "Epoch 2/5\n",
            "60/60 [==============================] - 6s 101ms/step - loss: 0.4968 - accuracy: 0.8219 - val_loss: 0.5019 - val_accuracy: 0.8458\n",
            "Epoch 3/5\n",
            "60/60 [==============================] - 6s 103ms/step - loss: 0.4914 - accuracy: 0.8385 - val_loss: 0.4978 - val_accuracy: 0.8438\n",
            "Epoch 4/5\n",
            "60/60 [==============================] - 6s 102ms/step - loss: 0.5046 - accuracy: 0.8281 - val_loss: 0.4959 - val_accuracy: 0.8479\n",
            "Epoch 5/5\n",
            "60/60 [==============================] - 6s 101ms/step - loss: 0.4894 - accuracy: 0.8297 - val_loss: 0.4943 - val_accuracy: 0.8458\n",
            "Epoch 1/5\n",
            "60/60 [==============================] - 6s 101ms/step - loss: 0.4726 - accuracy: 0.8411 - val_loss: 0.4868 - val_accuracy: 0.8479\n",
            "Epoch 2/5\n",
            "60/60 [==============================] - 6s 102ms/step - loss: 0.4981 - accuracy: 0.8323 - val_loss: 0.4894 - val_accuracy: 0.8521\n",
            "Epoch 3/5\n",
            "60/60 [==============================] - 6s 101ms/step - loss: 0.4694 - accuracy: 0.8349 - val_loss: 0.4863 - val_accuracy: 0.8458\n",
            "Epoch 4/5\n",
            "60/60 [==============================] - 6s 103ms/step - loss: 0.4937 - accuracy: 0.8339 - val_loss: 0.4839 - val_accuracy: 0.8521\n",
            "Epoch 5/5\n",
            "60/60 [==============================] - 6s 101ms/step - loss: 0.4431 - accuracy: 0.8505 - val_loss: 0.4810 - val_accuracy: 0.8479\n",
            "Epoch 1/5\n",
            "60/60 [==============================] - 6s 101ms/step - loss: 0.4622 - accuracy: 0.8427 - val_loss: 0.4797 - val_accuracy: 0.8500\n",
            "Epoch 2/5\n",
            "60/60 [==============================] - 6s 102ms/step - loss: 0.4750 - accuracy: 0.8359 - val_loss: 0.4807 - val_accuracy: 0.8521\n",
            "Epoch 3/5\n",
            "60/60 [==============================] - 6s 101ms/step - loss: 0.4511 - accuracy: 0.8474 - val_loss: 0.4799 - val_accuracy: 0.8417\n",
            "Epoch 4/5\n",
            "60/60 [==============================] - 6s 104ms/step - loss: 0.4643 - accuracy: 0.8443 - val_loss: 0.4736 - val_accuracy: 0.8521\n",
            "Epoch 5/5\n",
            "60/60 [==============================] - 6s 101ms/step - loss: 0.4511 - accuracy: 0.8531 - val_loss: 0.4743 - val_accuracy: 0.8479\n",
            "Epoch 1/5\n",
            "60/60 [==============================] - 6s 102ms/step - loss: 0.4612 - accuracy: 0.8365 - val_loss: 0.4655 - val_accuracy: 0.8542\n",
            "Epoch 2/5\n",
            "60/60 [==============================] - 6s 100ms/step - loss: 0.4388 - accuracy: 0.8516 - val_loss: 0.4690 - val_accuracy: 0.8521\n",
            "Epoch 3/5\n",
            "60/60 [==============================] - 6s 101ms/step - loss: 0.4553 - accuracy: 0.8406 - val_loss: 0.4713 - val_accuracy: 0.8458\n",
            "Epoch 4/5\n",
            "60/60 [==============================] - 6s 100ms/step - loss: 0.4273 - accuracy: 0.8531 - val_loss: 0.4629 - val_accuracy: 0.8521\n",
            "Epoch 5/5\n",
            "60/60 [==============================] - 6s 100ms/step - loss: 0.4330 - accuracy: 0.8401 - val_loss: 0.4636 - val_accuracy: 0.8438\n",
            "Epoch 1/5\n",
            "60/60 [==============================] - 6s 101ms/step - loss: 0.4364 - accuracy: 0.8479 - val_loss: 0.4578 - val_accuracy: 0.8542\n",
            "Epoch 2/5\n",
            "60/60 [==============================] - 6s 103ms/step - loss: 0.4131 - accuracy: 0.8599 - val_loss: 0.4614 - val_accuracy: 0.8458\n",
            "Epoch 3/5\n",
            "60/60 [==============================] - 6s 103ms/step - loss: 0.4245 - accuracy: 0.8599 - val_loss: 0.4580 - val_accuracy: 0.8479\n",
            "Epoch 4/5\n",
            "60/60 [==============================] - 6s 101ms/step - loss: 0.4116 - accuracy: 0.8604 - val_loss: 0.4539 - val_accuracy: 0.8500\n",
            "Epoch 5/5\n",
            "60/60 [==============================] - 6s 101ms/step - loss: 0.4190 - accuracy: 0.8438 - val_loss: 0.4557 - val_accuracy: 0.8521\n",
            "Epoch 1/5\n",
            "60/60 [==============================] - 6s 103ms/step - loss: 0.4239 - accuracy: 0.8583 - val_loss: 0.4633 - val_accuracy: 0.8438\n",
            "Epoch 2/5\n",
            "60/60 [==============================] - 6s 103ms/step - loss: 0.4337 - accuracy: 0.8479 - val_loss: 0.4566 - val_accuracy: 0.8500\n",
            "Epoch 3/5\n",
            "60/60 [==============================] - 6s 102ms/step - loss: 0.3887 - accuracy: 0.8672 - val_loss: 0.4566 - val_accuracy: 0.8479\n",
            "Epoch 4/5\n",
            "60/60 [==============================] - 6s 101ms/step - loss: 0.3995 - accuracy: 0.8661 - val_loss: 0.4537 - val_accuracy: 0.8458\n",
            "Epoch 5/5\n",
            "60/60 [==============================] - 6s 100ms/step - loss: 0.4078 - accuracy: 0.8589 - val_loss: 0.4554 - val_accuracy: 0.8438\n",
            "Epoch 1/5\n",
            "60/60 [==============================] - 6s 102ms/step - loss: 0.4072 - accuracy: 0.8625 - val_loss: 0.4460 - val_accuracy: 0.8521\n",
            "Epoch 2/5\n",
            "60/60 [==============================] - 6s 102ms/step - loss: 0.3960 - accuracy: 0.8516 - val_loss: 0.4460 - val_accuracy: 0.8479\n",
            "Epoch 3/5\n",
            "60/60 [==============================] - 6s 101ms/step - loss: 0.3978 - accuracy: 0.8583 - val_loss: 0.4483 - val_accuracy: 0.8500\n",
            "Epoch 4/5\n",
            "60/60 [==============================] - 6s 103ms/step - loss: 0.3966 - accuracy: 0.8589 - val_loss: 0.4449 - val_accuracy: 0.8500\n",
            "Epoch 5/5\n",
            "60/60 [==============================] - 6s 103ms/step - loss: 0.4063 - accuracy: 0.8583 - val_loss: 0.4464 - val_accuracy: 0.8479\n",
            "Epoch 1/5\n",
            "60/60 [==============================] - 6s 102ms/step - loss: 0.3981 - accuracy: 0.8589 - val_loss: 0.4527 - val_accuracy: 0.8438\n",
            "Epoch 2/5\n",
            "60/60 [==============================] - 6s 103ms/step - loss: 0.3936 - accuracy: 0.8589 - val_loss: 0.4426 - val_accuracy: 0.8500\n",
            "Epoch 3/5\n",
            "60/60 [==============================] - 6s 102ms/step - loss: 0.3836 - accuracy: 0.8672 - val_loss: 0.4419 - val_accuracy: 0.8542\n",
            "Epoch 4/5\n",
            "60/60 [==============================] - 6s 100ms/step - loss: 0.3803 - accuracy: 0.8667 - val_loss: 0.4402 - val_accuracy: 0.8500\n",
            "Epoch 5/5\n",
            "60/60 [==============================] - 6s 102ms/step - loss: 0.3954 - accuracy: 0.8615 - val_loss: 0.4369 - val_accuracy: 0.8500\n",
            "Epoch 1/5\n",
            "60/60 [==============================] - 6s 99ms/step - loss: 0.3749 - accuracy: 0.8714 - val_loss: 0.4391 - val_accuracy: 0.8500\n",
            "Epoch 2/5\n",
            "60/60 [==============================] - 6s 100ms/step - loss: 0.3874 - accuracy: 0.8599 - val_loss: 0.4368 - val_accuracy: 0.8542\n",
            "Epoch 3/5\n",
            "60/60 [==============================] - 6s 98ms/step - loss: 0.3610 - accuracy: 0.8750 - val_loss: 0.4374 - val_accuracy: 0.8542\n",
            "Epoch 4/5\n",
            "60/60 [==============================] - 6s 98ms/step - loss: 0.3664 - accuracy: 0.8813 - val_loss: 0.4348 - val_accuracy: 0.8542\n",
            "Epoch 5/5\n",
            "60/60 [==============================] - 6s 98ms/step - loss: 0.3538 - accuracy: 0.8750 - val_loss: 0.4279 - val_accuracy: 0.8604\n",
            "Epoch 1/5\n",
            "60/60 [==============================] - 6s 99ms/step - loss: 0.3732 - accuracy: 0.8682 - val_loss: 0.4306 - val_accuracy: 0.8583\n",
            "Epoch 2/5\n",
            "60/60 [==============================] - 6s 99ms/step - loss: 0.3804 - accuracy: 0.8703 - val_loss: 0.4277 - val_accuracy: 0.8562\n",
            "Epoch 3/5\n",
            "60/60 [==============================] - 6s 98ms/step - loss: 0.3745 - accuracy: 0.8635 - val_loss: 0.4257 - val_accuracy: 0.8562\n",
            "Epoch 4/5\n",
            "60/60 [==============================] - 6s 99ms/step - loss: 0.3723 - accuracy: 0.8667 - val_loss: 0.4308 - val_accuracy: 0.8542\n",
            "Epoch 5/5\n",
            "60/60 [==============================] - 6s 99ms/step - loss: 0.3664 - accuracy: 0.8786 - val_loss: 0.4244 - val_accuracy: 0.8521\n",
            "Epoch 1/5\n",
            "60/60 [==============================] - 6s 101ms/step - loss: 0.3700 - accuracy: 0.8672 - val_loss: 0.4285 - val_accuracy: 0.8583\n",
            "Epoch 2/5\n",
            "60/60 [==============================] - 6s 100ms/step - loss: 0.3565 - accuracy: 0.8714 - val_loss: 0.4306 - val_accuracy: 0.8479\n",
            "Epoch 3/5\n",
            "60/60 [==============================] - 6s 99ms/step - loss: 0.3403 - accuracy: 0.8776 - val_loss: 0.4266 - val_accuracy: 0.8583\n",
            "Epoch 4/5\n",
            "60/60 [==============================] - 6s 100ms/step - loss: 0.3382 - accuracy: 0.8849 - val_loss: 0.4288 - val_accuracy: 0.8542\n",
            "Epoch 5/5\n",
            "24/60 [===========>..................] - ETA: 2s - loss: 0.3403 - accuracy: 0.8919"
          ],
          "name": "stdout"
        }
      ]
    },
    {
      "cell_type": "code",
      "metadata": {
        "id": "pFzUvneq9f3a"
      },
      "source": [
        "model = tf.keras.models.load_model('/content/drive/MyDrive/cats_breeds.pb')"
      ],
      "execution_count": null,
      "outputs": []
    },
    {
      "cell_type": "code",
      "metadata": {
        "id": "dW_1MhnC9mJ5"
      },
      "source": [
        "from keras.preprocessing.image import load_img, img_to_array\n",
        "\n",
        "# load and prepare the image\n",
        "def load_image(filename):\n",
        "\t# load the image\n",
        "\timg = load_img(filename, target_size=(160, 160))\n",
        "\t# convert to array\n",
        "\timg = img_to_array(img)\n",
        "\t# reshape into a single sample with 3 channels\n",
        "\timg = img.reshape(1, 160, 160, 3)\n",
        "\t# center pixel data\n",
        "\t#img = preprocess_input(img)\n",
        "\treturn img\n",
        "\n",
        "img = load_image('/content/drive/MyDrive/cat_1.jpeg')"
      ],
      "execution_count": null,
      "outputs": []
    },
    {
      "cell_type": "code",
      "metadata": {
        "id": "9TXQDuXz9n4z"
      },
      "source": [
        "labels = ['egyptian_mau', 'siamese', 'birman', 'abyssinian', 'sphynx', 'british_shorthair', 'bombay', 'russian_blue', 'persian', 'ragdoll', 'maine_coon', 'bengal']"
      ],
      "execution_count": null,
      "outputs": []
    },
    {
      "cell_type": "code",
      "metadata": {
        "id": "jjKO_p3j9piZ"
      },
      "source": [
        "prediction = model.predict(img, batch_size=None,)\n",
        "prediction = tf.nn.softmax(prediction)\n",
        "prediction = np.argmax(prediction, axis=1)\n",
        "print(prediction)"
      ],
      "execution_count": null,
      "outputs": []
    },
    {
      "cell_type": "code",
      "metadata": {
        "id": "smcF4i049r7C"
      },
      "source": [
        "plt.figure()\n",
        "plt.imshow(img[0]/255)\n",
        "plt.title(labels[int(prediction)])"
      ],
      "execution_count": null,
      "outputs": []
    },
    {
      "cell_type": "code",
      "metadata": {
        "id": "yn-mzUxQ9wpp"
      },
      "source": [
        "# #Retrieve a batch of images from the test set\n",
        "# image_batch, label_batch = test_dataset.as_numpy_iterator().next()\n",
        "# predictions = model.predict_on_batch(image_batch)\n",
        "\n",
        "# # Apply a sigmoid since our model returns logits\n",
        "# predictions = tf.nn.softmax(predictions)\n",
        "# #print(predictions.shape)\n",
        "# predictions = np.argmax(predictions, axis=1)\n",
        "\n",
        "# print('Predictions:\\n', predictions)\n",
        "# print('Labels:\\n', label_batch)\n",
        "\n",
        "# plt.figure(figsize=(10, 10))\n",
        "# for i in range(9):\n",
        "#   ax = plt.subplot(3, 3, i + 1)\n",
        "#   plt.imshow(image_batch[i].astype(\"uint8\"))\n",
        "#   plt.title(class_names[predictions[i]])\n",
        "#   plt.axis(\"off\")"
      ],
      "execution_count": null,
      "outputs": []
    }
  ]
}